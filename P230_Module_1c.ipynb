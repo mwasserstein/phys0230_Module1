{
 "cells": [
  {
   "cell_type": "markdown",
   "metadata": {
    "id": "V6H1gulcVj-1"
   },
   "source": [
    "*Problems marked with a red asterisk are <font color=red>**challenge**</font> problems. We especially encourage students who have some prior experience with these topics to give these problems a try.*"
   ]
  },
  {
   "cell_type": "markdown",
   "metadata": {
    "id": "fsj-v8bXCtTe"
   },
   "source": [
    "## Kinetic Energy in Relativity\n",
    "\n",
    " In PHYS 109 you learned that in Newtonian physics, the kinetic energy of a particle of mass $m$ and speed $v$ is:\n",
    " \n",
    " $$ \\textbf{Newtonian kinetic energy:} \\qquad K_N = \\frac{1}{2}mv^2 $$\n",
    " \n",
    " Einstein taught us that the **total energy** of a *relativistic particle* is:\n",
    " \n",
    " $$ \\textbf{total energy:} \\qquad E = \\gamma\\left(\\frac{v}{c}\\right) mc^2 $$ \n",
    " \n",
    " Where $\\gamma$ is the function \n",
    " $$ \\gamma\\left( \\beta \\right) \\equiv \\frac{1}{\\sqrt{1 - \\beta^2}} $$ \n",
    " \n",
    " and $c$ is the speed of light. In relativity, for convenience, we often define the ratio $\\beta \\equiv v/c$. Notice that $ E \\neq mc^2 $!! But since $\\gamma(0) = 1$, a particle at rest has total energy of $mc^2$, which we call the **rest energy** of the particle: \n",
    " \n",
    " $$ \\textbf{rest energy:} \\qquad E_0 \\equiv mc^2 $$\n",
    " \n",
    "The kinetic energy is simply the difference between the total energy and the rest energy \n",
    " \n",
    " $$ \\textbf{relativistic kinetic energy:} \\qquad K_r = E - E_0 $$\n",
    " \n",
    " Here we will explore how the expression for the Newtonian and relativistic expressions for kinetic energy differ."
   ]
  },
  {
   "cell_type": "markdown",
   "metadata": {
    "id": "p7i6j_cIVj-6"
   },
   "source": [
    "### Problems"
   ]
  },
  {
   "cell_type": "markdown",
   "metadata": {
    "id": "nMj5YRv4CtTf"
   },
   "source": [
    "1. Plot $K_r$ and $K_N$ as functions of $v/c$ on the same plot.\n",
    "\n",
    "    *Hint*: We'd like to do this for *any* value of the mass $m$. Sometimes you'll find that it's more useful to plot a **dimensionless ratio** than the actually physical quantity itself. In this case, we can plot the ratios of the kinetic energies to the rest energy ($K_N/E_0$ and $K_r/E_0$); notice that the $m$ cancels from both of these expressions. Conveniently, since these ratios are dimensionless, there's no units to worry about on your axes. Similarly, this is why we'll use $v/c$ rather than $v$ for the x-axis. \n",
    "\n",
    "    Answer the following questions based on your plot:\n",
    "    * Where do $K_r$ and $K_N$ agree? Where do they disagree?\n",
    "    * Einstein taught us that a massive particle ($m > 0$) must always travel at speeds less than $c$. Does your plot give an indcation why?"
   ]
  },
  {
   "cell_type": "markdown",
   "metadata": {
    "id": "MD-muf6gVj-7"
   },
   "source": [
    "<font color=red>2.*</font> $K_n$ is an *approximation* to $K_r$ that is accurate to 2nd order in $\\beta \\equiv v/c$.\n",
    "\n",
    "* Find the next lowest order correction $\\delta K$ to $K_N$ such that $K_r \\simeq K_N + \\delta K$.\n",
    "* Plot the absolute error ($ | K_N - K_r |$) error in $K_N$ and $\\delta K$ vs. $v/c$. Explain what you plots shows.\n",
    "    \n",
    "   *Hint*: Make use of the Taylor series expansion:\n",
    "   $$ (1 + x)^p \\simeq 1 + px + \\frac{p\\left(p-1\\right)}{2}x^2 + \\dots \\qquad x \\ll 1$$\n",
    "    \n",
    "   Expand $\\gamma(\\beta)$ to 4th order in $\\beta$."
   ]
  },
  {
   "cell_type": "markdown",
   "metadata": {
    "id": "7EsZU_-XC_Hg"
   },
   "source": [
    "# Relativistic Force"
   ]
  },
  {
   "cell_type": "markdown",
   "metadata": {
    "id": "EwiuBc18C_Hh"
   },
   "source": [
    "Newton's 2nd Law says that $\\vec{F} = m \\vec{a}$, which we can equivalently write as:\n",
    "$$  \\vec{a}_N = \\frac{\\vec{F}}{m} $$\n",
    "This tells us that the acceration of an object is proportional to the force applied. In relativity, Newton's law isn't so quite so simple--the acceleration depends on both the applied force and the velocity of the particle. The relativistic version of Newton's 2nd law is:\n",
    "\n",
    "$$ \\vec{a}_r = \\frac{\\vec{F} - \\left( \\vec{F}\\cdot \\vec{\\beta} \\right) \\vec{\\beta} }{\\gamma\\left(\\beta\\right) m}$$\n",
    "\n",
    "where $\\vec{\\beta} \\equiv \\vec{v}/c$ and $\\beta \\equiv | \\vec{\\beta} |$. Because the acceleration depends on the velocity of the particle, the force and acceleration are not always in the same direction!"
   ]
  },
  {
   "cell_type": "markdown",
   "metadata": {
    "id": "e8bu-SNyVj-9"
   },
   "source": [
    "### Problem"
   ]
  },
  {
   "cell_type": "markdown",
   "metadata": {
    "id": "NVnt6ob4C_Hh"
   },
   "source": [
    "3. Consider two cases:\n",
    "    * A force is applied in a direction *perpendicular* to the velocity $\\vec{F} \\perp \\vec{v}$.\n",
    "    * A force is applied in the same direction as the velocity $\\vec{F} \\parallel \\vec{v}$.\n",
    "   \n",
    "   For each case plot the ratio of the magnitude of the relativistic acceleration to the magnitude of the Newtonian acceleration as a function of $\\beta$.\n",
    "   \n",
    "    * Is it easier to accelerate a particle along the direction it's moving, or perpendicular to it's motion?\n",
    "    * Use your plots to explain why a massive particle ($m > 0$) can never travel at the speed of light."
   ]
  },
  {
   "cell_type": "markdown",
   "metadata": {
    "id": "i8co5esUC_Hk"
   },
   "source": [
    "## Alternative form of Newton's 2nd Law"
   ]
  },
  {
   "cell_type": "markdown",
   "metadata": {
    "id": "6X7UZ0_5C_Hl"
   },
   "source": [
    "In both Newtonian physics and relativity, we can write Newton's 2nd law as the rate of change of the momentum:\n",
    "\n",
    "$$ \\vec{F} = \\frac{d \\vec{p}}{dt} $$\n",
    "\n",
    "The difference between relativity and Newtonian physics is the expression for the momentum:\n",
    "\n",
    "$$ \\begin{align}\n",
    "\\textbf{Newtonian momentum:} \\qquad \\vec{p}_N &= m \\vec{v} \\\\\n",
    "\\textbf{relativistic momentum:} \\qquad \\vec{p}_r &= \\gamma(v/c) m \\vec{v} \n",
    "\\end{align}$$\n",
    "\n",
    "Now consider a particle that is intially at rest when a constant force $\\vec{F}$ is applied for time t. Since all the motion of the particle will be along one direction, we can remove the vector signs and integrate Newton's 2nd law to find the momentum as a function of time:\n",
    "\n",
    "$$ F = \\frac{d p}{dt} \\quad\\Rightarrow\\quad \\int_0^t F dt = \\int_0^p dp' = p $$ \n",
    "\n",
    "Since the force is constant in time we have:\n",
    "\n",
    "$$ p = Ft $$\n",
    "\n",
    "Using the Newotonian expression for moentum $p_N=mv$, you can solve for the speed of the particle:\n",
    "\n",
    "$$ mv_N = Ft \\quad\\Rightarrow\\quad v_N = \\frac{F}{m} t $$\n",
    "\n",
    "Notice that if you take the time dervative of both sides, we get back $a = F/m$ as expected. As usual, the relativistic expression for the speed as a function of time isn't quite so simple! "
   ]
  },
  {
   "cell_type": "markdown",
   "metadata": {
    "id": "BM3KVoMUVj--"
   },
   "source": [
    "### Problem"
   ]
  },
  {
   "cell_type": "markdown",
   "metadata": {
    "id": "x5oVpoboC_Hl"
   },
   "source": [
    "<font color=red>4.*</font> Use the relativistic expression for momentum, to find the speed of a relativistic particle accelerated from rest as a function of time. Notice that your expression for $v_r/c$ is a funciton of the dimensionless quantity $\\tau \\equiv Ft/mc$.\n",
    "\n",
    "* Plot the speed of the particle vs. time. For the y-axis plot the ratio $v_r/c$ and for the x-axis plot the dimensionless quanity $Ft/mc$. \n",
    "* What happens to the speed of the particle if a constant force is applied indefinitely?\n",
    "* Is any part of yoru plot consistent with Newtonian physics? If so, explain."
   ]
  },
  {
   "cell_type": "code",
   "execution_count": null,
   "metadata": {},
   "outputs": [],
   "source": []
  }
 ],
 "metadata": {
  "colab": {
   "name": "Module_1c.ipynb",
   "provenance": []
  },
  "kernelspec": {
   "display_name": "Python 3",
   "language": "python",
   "name": "python3"
  },
  "language_info": {
   "codemirror_mode": {
    "name": "ipython",
    "version": 3
   },
   "file_extension": ".py",
   "mimetype": "text/x-python",
   "name": "python",
   "nbconvert_exporter": "python",
   "pygments_lexer": "ipython3",
   "version": "3.8.5"
  }
 },
 "nbformat": 4,
 "nbformat_minor": 4
}
