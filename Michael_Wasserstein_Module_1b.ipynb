{
 "cells": [
  {
   "cell_type": "markdown",
   "metadata": {},
   "source": [
    "### Michael Wasserstein --- Module 1b"
   ]
  },
  {
   "cell_type": "code",
   "execution_count": 1,
   "metadata": {},
   "outputs": [],
   "source": [
    "import numpy as np\n",
    "import scipy as sp\n",
    "import math\n",
    "import matplotlib.pyplot as plt\n",
    "\n",
    "%matplotlib inline"
   ]
  },
  {
   "cell_type": "markdown",
   "metadata": {},
   "source": [
    "### Exercises -- Creating lists and adding items to them"
   ]
  },
  {
   "cell_type": "markdown",
   "metadata": {},
   "source": [
    "1. Predict the output of the following blocks of code, then run the code in a cell below and determine if your prediction was correct.  If it wasn't correct, make sure to determine where you went wrong.\n",
    "\n",
    "    **Block 1**\n",
    "    \n",
    "        [1, 2, 3] == [1, 2, 3]\n",
    "        \n",
    "This will output **True**"
   ]
  },
  {
   "cell_type": "code",
   "execution_count": 2,
   "metadata": {},
   "outputs": [
    {
     "data": {
      "text/plain": [
       "True"
      ]
     },
     "execution_count": 2,
     "metadata": {},
     "output_type": "execute_result"
    }
   ],
   "source": [
    "[1, 2, 3] == [1, 2, 3]"
   ]
  },
  {
   "cell_type": "markdown",
   "metadata": {},
   "source": [
    "I was correct"
   ]
  },
  {
   "cell_type": "markdown",
   "metadata": {},
   "source": [
    "**Block 2**\n",
    "    \n",
    "    [1, 2, 3] == [1, 3, 2]\n",
    "    \n",
    "This will output **False**"
   ]
  },
  {
   "cell_type": "code",
   "execution_count": 3,
   "metadata": {},
   "outputs": [
    {
     "data": {
      "text/plain": [
       "False"
      ]
     },
     "execution_count": 3,
     "metadata": {},
     "output_type": "execute_result"
    }
   ],
   "source": [
    "[1, 2, 3] == [1, 3, 2]"
   ]
  },
  {
   "cell_type": "markdown",
   "metadata": {},
   "source": [
    "I was correct"
   ]
  },
  {
   "cell_type": "markdown",
   "metadata": {},
   "source": [
    "**Block 3**\n",
    "    \n",
    "     list_1 = [5, 7, 10]\n",
    "     list_2 = [5, 7, 10, 11]\n",
    "     list_3 = list_2\n",
    "     list_3.append(11)\n",
    "     list_4 = [5, 7, 10, 11, 11]\n",
    "     list_1.append(11)\n",
    "     print(list_1 == list_3)\n",
    "     print(list_1 == list_2)\n",
    "     print(list_3 == list_4)"
   ]
  },
  {
   "cell_type": "markdown",
   "metadata": {},
   "source": [
    "This will output: <br>\n",
    "    **False** <br>\n",
    "    **True** <br>\n",
    "    **True** <br>"
   ]
  },
  {
   "cell_type": "code",
   "execution_count": 4,
   "metadata": {},
   "outputs": [
    {
     "name": "stdout",
     "output_type": "stream",
     "text": [
      "False\n",
      "False\n",
      "True\n"
     ]
    }
   ],
   "source": [
    "list_1 = [5, 7, 10]\n",
    "list_2 = [5, 7, 10, 11]\n",
    "list_3 = list_2\n",
    "list_3.append(11)\n",
    "list_4 = [5, 7, 10, 11, 11]\n",
    "list_1.append(11)\n",
    "print(list_1 == list_3)\n",
    "print(list_1 == list_2)\n",
    "print(list_3 == list_4)"
   ]
  },
  {
   "cell_type": "markdown",
   "metadata": {},
   "source": [
    "I was correct for the first and third print statements, but I got the seccond one wrong. The line list_3 = list_2 means that list_3 and list_2 are the same, so when we append 11 to list_3 we also append 11 to list two. I missed this, and thought that 11 was not appended. Thus, I thought list_2 should have been [5, 7, 10, 11] rather than [5, 7, 10, 11, 11]."
   ]
  },
  {
   "cell_type": "markdown",
   "metadata": {},
   "source": [
    "**Block 4**\n",
    "    \n",
    "        empty_list = []\n",
    "        empty_list.append(13)\n",
    "        empty_list.append(7)\n",
    "        empty_list.append(271)\n",
    "        empty_list == [271, 7, 13]"
   ]
  },
  {
   "cell_type": "markdown",
   "metadata": {},
   "source": [
    "This will output **False**"
   ]
  },
  {
   "cell_type": "code",
   "execution_count": 5,
   "metadata": {},
   "outputs": [
    {
     "data": {
      "text/plain": [
       "False"
      ]
     },
     "execution_count": 5,
     "metadata": {},
     "output_type": "execute_result"
    }
   ],
   "source": [
    "empty_list = []\n",
    "empty_list.append(13)\n",
    "empty_list.append(7)\n",
    "empty_list.append(271)\n",
    "empty_list == [271, 7, 13]"
   ]
  },
  {
   "cell_type": "markdown",
   "metadata": {},
   "source": [
    "I was correct"
   ]
  },
  {
   "cell_type": "markdown",
   "metadata": {},
   "source": [
    "### Lists can contain different types of objects"
   ]
  },
  {
   "cell_type": "code",
   "execution_count": 6,
   "metadata": {},
   "outputs": [
    {
     "name": "stdout",
     "output_type": "stream",
     "text": [
      "[1, 2, 3, [1, 2, 3], <function my_func at 0x118bb7280>]\n"
     ]
    }
   ],
   "source": [
    "my_list = [1, 2, 3]\n",
    "my_list.append([1, 2, 3])\n",
    "\n",
    "def my_func(x):\n",
    "    return x ** 2.3\n",
    "\n",
    "my_list.append(my_func)\n",
    "\n",
    "print(my_list)"
   ]
  },
  {
   "cell_type": "markdown",
   "metadata": {},
   "source": [
    "### List elements can be called and their values can be reassigned"
   ]
  },
  {
   "cell_type": "code",
   "execution_count": 7,
   "metadata": {},
   "outputs": [
    {
     "name": "stdout",
     "output_type": "stream",
     "text": [
      "[1, 4, 9, 16]\n"
     ]
    }
   ],
   "source": [
    "perfect_squares = [1, 4, 9, 13]\n",
    "perfect_squares[3] = 16\n",
    "print(perfect_squares)"
   ]
  },
  {
   "cell_type": "markdown",
   "metadata": {},
   "source": [
    "Just as we wanted, we can reassign elements of a list using indexing."
   ]
  },
  {
   "cell_type": "markdown",
   "metadata": {},
   "source": [
    "### Exercises - List elements can be called and their values can be reassigned\n",
    "\n",
    "1. In each of the following code blocks, a list called `test_list` is created and manipulated in a number of ways.  \n",
    "    - In each case, predict what the output would be if you were to print `test_list` after the entire code block is run, then \n",
    "    - run each code block in its own coding cell below, and check your prediction, and finally\n",
    "    - if your prediction was not correct, make sure you understand where you went wrong."
   ]
  },
  {
   "cell_type": "markdown",
   "metadata": {},
   "source": [
    "   **Block 1**\n",
    "    \n",
    "            test_list = []\n",
    "            test_list.append(3)\n",
    "            test_list.append(2)\n",
    "            test_list.append(5)\n",
    "            test_list[1] = 3\n",
    "            test_list[0] = 2\n",
    "            test_list.append(4)\n",
    "            test_list[3] = 5\n",
    "            test_list[2] = 4\n",
    "            \n",
    "The output of print(test_list) would be [2, 3, 4, 5]"
   ]
  },
  {
   "cell_type": "code",
   "execution_count": 8,
   "metadata": {},
   "outputs": [
    {
     "name": "stdout",
     "output_type": "stream",
     "text": [
      "[2, 3, 4, 5]\n"
     ]
    }
   ],
   "source": [
    "test_list = []\n",
    "test_list.append(3)\n",
    "test_list.append(2)\n",
    "test_list.append(5)\n",
    "test_list[1] = 3\n",
    "test_list[0] = 2\n",
    "test_list.append(4)\n",
    "test_list[3] = 5\n",
    "test_list[2] = 4\n",
    "print(test_list)"
   ]
  },
  {
   "cell_type": "markdown",
   "metadata": {},
   "source": [
    "I was correct for block 1"
   ]
  },
  {
   "cell_type": "markdown",
   "metadata": {},
   "source": [
    "   **Block 2**\n",
    "    \n",
    "            test_list = []\n",
    "            test_list.append([1,2])\n",
    "            test_list[0][1] = 3\n",
    "            test_list.append([1, 2])\n",
    "            test_list[1][0] = 257\n",
    "            test_list[0][0] = test_list[1][0]\n",
    "            \n",
    "The output of print(test_list) would be [[257, 3], [257, 2]]"
   ]
  },
  {
   "cell_type": "code",
   "execution_count": 9,
   "metadata": {},
   "outputs": [
    {
     "name": "stdout",
     "output_type": "stream",
     "text": [
      "[[257, 3], [257, 2]]\n"
     ]
    }
   ],
   "source": [
    "test_list = []\n",
    "test_list.append([1,2])\n",
    "test_list[0][1] = 3\n",
    "test_list.append([1, 2])\n",
    "test_list[1][0] = 257\n",
    "test_list[0][0] = test_list[1][0]\n",
    "print(test_list)"
   ]
  },
  {
   "cell_type": "markdown",
   "metadata": {},
   "source": [
    "I was correct for block 2"
   ]
  },
  {
   "cell_type": "markdown",
   "metadata": {},
   "source": [
    "**Block 3** <br>\n",
    "test_list = [[\"rhino\", \"cat\"], [\"elephant\", \"dog\"]] <br>\n",
    "            test_list[0][1] = test_list[1][0] <br>\n",
    "            test_list[1][1] = test_list[0][0] <br>\n",
    "            test_list[1] = test_list[0] <br>"
   ]
  },
  {
   "cell_type": "markdown",
   "metadata": {},
   "source": [
    "The output of print(test_list) would be [[\"rhino\", \"elephant\"], [\"rhino\", \"elephant\"]]"
   ]
  },
  {
   "cell_type": "code",
   "execution_count": 10,
   "metadata": {},
   "outputs": [
    {
     "name": "stdout",
     "output_type": "stream",
     "text": [
      "[['rhino', 'elephant'], ['rhino', 'elephant']]\n"
     ]
    }
   ],
   "source": [
    "test_list = [[\"rhino\", \"cat\"], [\"elephant\", \"dog\"]]\n",
    "test_list[0][1] = test_list[1][0]\n",
    "test_list[1][1] = test_list[0][0]\n",
    "test_list[1] = test_list[0]\n",
    "print(test_list)"
   ]
  },
  {
   "cell_type": "markdown",
   "metadata": {},
   "source": [
    "I was correct for block 3"
   ]
  },
  {
   "cell_type": "markdown",
   "metadata": {},
   "source": [
    "2. In each of the following code blocks, two lists are created and gives names `list_1` and `list_2`\n",
    "    - In each case, determine a sequence of steps (lines of python code) sufficient to turn `list_1` into `list_2`.\n",
    "    - Create a coding cell for each case, create `list_1`, perform those steps, and then print out the list to make sure your steps did what they were supposed to.\n",
    "    \n",
    "        **Block 1**\n",
    "    \n",
    "            list_1 = []\n",
    "            list_2 = [17, 29, 31]"
   ]
  },
  {
   "cell_type": "code",
   "execution_count": 11,
   "metadata": {},
   "outputs": [
    {
     "data": {
      "text/plain": [
       "True"
      ]
     },
     "execution_count": 11,
     "metadata": {},
     "output_type": "execute_result"
    }
   ],
   "source": [
    "list_1 = []\n",
    "list_2 = [17, 29, 31]\n",
    "list_1.append(17)\n",
    "list_1.append(29)\n",
    "list_1.append(31)\n",
    "list_1 == list_2 # Check to see if list_1 and list_2 are the same"
   ]
  },
  {
   "cell_type": "markdown",
   "metadata": {},
   "source": [
    "  **Block 2**\n",
    "    \n",
    "            list_1 = [\"cat\", \"dog\", \"mouse\"]\n",
    "            list_2 = [\"mouse\", \"cat\", \"dog\"]"
   ]
  },
  {
   "cell_type": "code",
   "execution_count": 12,
   "metadata": {},
   "outputs": [
    {
     "data": {
      "text/plain": [
       "True"
      ]
     },
     "execution_count": 12,
     "metadata": {},
     "output_type": "execute_result"
    }
   ],
   "source": [
    "list_1 = [\"cat\", \"dog\", \"mouse\"]\n",
    "list_2 = [\"mouse\", \"cat\", \"dog\"]\n",
    "list_1[0] = \"mouse\"\n",
    "list_1[1] = \"cat\"\n",
    "list_1[2] = \"dog\"\n",
    "list_1 == list_2 # Check to see if list_1 and list_2 are the same"
   ]
  },
  {
   "cell_type": "markdown",
   "metadata": {},
   "source": [
    "   **Block 3**\n",
    "    \n",
    "            list_1 = []\n",
    "            list_2 = [[\"cat\", \"dog\"], [\"elephant\", \"rhino\"]]"
   ]
  },
  {
   "cell_type": "code",
   "execution_count": 13,
   "metadata": {},
   "outputs": [
    {
     "data": {
      "text/plain": [
       "True"
      ]
     },
     "execution_count": 13,
     "metadata": {},
     "output_type": "execute_result"
    }
   ],
   "source": [
    "list_1 = []\n",
    "list_2 = [[\"cat\", \"dog\"], [\"elephant\", \"rhino\"]]\n",
    "list_1.append([\"cat\", \"dog\"])\n",
    "list_1.append([\"elephant\", \"rhino\"])\n",
    "list_1 == list_2 # Check to see if list_1 and list_2 are the same"
   ]
  },
  {
   "cell_type": "markdown",
   "metadata": {},
   "source": [
    "   **Block 4**\n",
    "    \n",
    "            list_1 = [[1, 2], [4, 5]]\n",
    "            list_2 = [[2, 1], [5, 4]]"
   ]
  },
  {
   "cell_type": "code",
   "execution_count": 14,
   "metadata": {},
   "outputs": [
    {
     "data": {
      "text/plain": [
       "True"
      ]
     },
     "execution_count": 14,
     "metadata": {},
     "output_type": "execute_result"
    }
   ],
   "source": [
    "list_1 = [[1, 2], [4, 5]]\n",
    "list_2 = [[2, 1], [5, 4]]\n",
    "list_1[0] = [2, 1]\n",
    "list_1[1] = [5, 4]\n",
    "list_1 == list_2 # Check to see if list_1 and list_2 are the same"
   ]
  },
  {
   "cell_type": "markdown",
   "metadata": {},
   "source": [
    "  **Block 5**\n",
    "    \n",
    "            list_1 = [[1, 2], [4, 5]]\n",
    "            list_2 = [[3, 2, 1], [6, 5, 4]]"
   ]
  },
  {
   "cell_type": "code",
   "execution_count": 15,
   "metadata": {},
   "outputs": [
    {
     "data": {
      "text/plain": [
       "True"
      ]
     },
     "execution_count": 15,
     "metadata": {},
     "output_type": "execute_result"
    }
   ],
   "source": [
    "list_1 = [[1, 2], [4, 5]]\n",
    "list_2 = [[3, 2, 1], [6, 5, 4]]\n",
    "list_1[0] = [3, 2, 1]\n",
    "list_1[1] = [6, 5, 4]\n",
    "list_1 == list_2 # Check to see if list_1 and list_2 are the same"
   ]
  },
  {
   "cell_type": "markdown",
   "metadata": {},
   "source": [
    "### Exercises - systematic list creation and manipulation\n",
    "\n",
    "Complete each of the following exercises in its own coding cell below.\n",
    "\n",
    "1. Create a list called `first_100_odd` containing the first 100 positive integers that are odd.  Print out the list to make sure you created the right list."
   ]
  },
  {
   "cell_type": "code",
   "execution_count": 16,
   "metadata": {},
   "outputs": [
    {
     "name": "stdout",
     "output_type": "stream",
     "text": [
      "[1, 3, 5, 7, 9, 11, 13, 15, 17, 19, 21, 23, 25, 27, 29, 31, 33, 35, 37, 39, 41, 43, 45, 47, 49, 51, 53, 55, 57, 59, 61, 63, 65, 67, 69, 71, 73, 75, 77, 79, 81, 83, 85, 87, 89, 91, 93, 95, 97, 99, 101, 103, 105, 107, 109, 111, 113, 115, 117, 119, 121, 123, 125, 127, 129, 131, 133, 135, 137, 139, 141, 143, 145, 147, 149, 151, 153, 155, 157, 159, 161, 163, 165, 167, 169, 171, 173, 175, 177, 179, 181, 183, 185, 187, 189, 191, 193, 195, 197, 199]\n"
     ]
    }
   ],
   "source": [
    "first_100_odd = [(2 * n) + 1 for n in range(100)]\n",
    "print(first_100_odd)"
   ]
  },
  {
   "cell_type": "markdown",
   "metadata": {},
   "source": [
    "2. Create a list called `first_100_perfect` containing the first 100 positive integers that are perfect squares.  Print out the list to make sure you created the right list."
   ]
  },
  {
   "cell_type": "code",
   "execution_count": 17,
   "metadata": {},
   "outputs": [
    {
     "name": "stdout",
     "output_type": "stream",
     "text": [
      "[1, 4, 9, 16, 25, 36, 49, 64, 81, 100, 121, 144, 169, 196, 225, 256, 289, 324, 361, 400, 441, 484, 529, 576, 625, 676, 729, 784, 841, 900, 961, 1024, 1089, 1156, 1225, 1296, 1369, 1444, 1521, 1600, 1681, 1764, 1849, 1936, 2025, 2116, 2209, 2304, 2401, 2500, 2601, 2704, 2809, 2916, 3025, 3136, 3249, 3364, 3481, 3600, 3721, 3844, 3969, 4096, 4225, 4356, 4489, 4624, 4761, 4900, 5041, 5184, 5329, 5476, 5625, 5776, 5929, 6084, 6241, 6400, 6561, 6724, 6889, 7056, 7225, 7396, 7569, 7744, 7921, 8100, 8281, 8464, 8649, 8836, 9025, 9216, 9409, 9604, 9801, 10000]\n"
     ]
    }
   ],
   "source": [
    "first_100_perfect = [n ** 2 for n in range(1,101)]\n",
    "print(first_100_perfect)"
   ]
  },
  {
   "cell_type": "markdown",
   "metadata": {},
   "source": [
    "3. Create a list `divisible_357` containing the first 100 positive integers that are divisible by both $3$, $5$, and $7$.  Print out the list to make sure you created the right list."
   ]
  },
  {
   "cell_type": "code",
   "execution_count": 18,
   "metadata": {},
   "outputs": [
    {
     "name": "stdout",
     "output_type": "stream",
     "text": [
      "[105, 210, 315, 420, 525, 630, 735, 840, 945, 1050, 1155, 1260, 1365, 1470, 1575, 1680, 1785, 1890, 1995, 2100, 2205, 2310, 2415, 2520, 2625, 2730, 2835, 2940, 3045, 3150, 3255, 3360, 3465, 3570, 3675, 3780, 3885, 3990, 4095, 4200, 4305, 4410, 4515, 4620, 4725, 4830, 4935, 5040, 5145, 5250, 5355, 5460, 5565, 5670, 5775, 5880, 5985, 6090, 6195, 6300, 6405, 6510, 6615, 6720, 6825, 6930, 7035, 7140, 7245, 7350, 7455, 7560, 7665, 7770, 7875, 7980, 8085, 8190, 8295, 8400, 8505, 8610, 8715, 8820, 8925, 9030, 9135, 9240, 9345, 9450, 9555, 9660, 9765, 9870, 9975, 10080, 10185, 10290, 10395, 10500]\n"
     ]
    }
   ],
   "source": [
    "divisible_357 = []\n",
    "n = 1\n",
    "while len(divisible_357) < 100:\n",
    "    if n % 3 == 0 and n % 5 == 0 and n % 7 == 0:\n",
    "        divisible_357.append(n)\n",
    "    n += 1\n",
    "    \n",
    "print(divisible_357)"
   ]
  },
  {
   "cell_type": "code",
   "execution_count": 19,
   "metadata": {},
   "outputs": [
    {
     "data": {
      "text/plain": [
       "100"
      ]
     },
     "execution_count": 19,
     "metadata": {},
     "output_type": "execute_result"
    }
   ],
   "source": [
    "len(divisible_357)"
   ]
  },
  {
   "cell_type": "markdown",
   "metadata": {},
   "source": [
    "4. Define a function called `fib_list` that takes in a positive integer $n$ as its only input and outputs a list containing the first $n$ [Fibonnaci numbers](https://en.wikipedia.org/wiki/Fibonacci_number) in the correct order.  Test this function for a few reasonably small values of $n$ to make sure that the output is correct."
   ]
  },
  {
   "cell_type": "code",
   "execution_count": 20,
   "metadata": {},
   "outputs": [],
   "source": [
    "def fib_list(n):\n",
    "    '''Takes in an integer n and outputs a \n",
    "    list containing the first n Fibonnaci numbers'''\n",
    "    if n == 1:\n",
    "        fib_list = [0]\n",
    "    elif n == 2:\n",
    "        fib_list = [0, 1]\n",
    "    else:\n",
    "        fib_list = [0, 1]\n",
    "        for i in range(2, n):\n",
    "            fib_list.append(fib_list[-2] + fib_list[-1])\n",
    "            \n",
    "    return fib_list"
   ]
  },
  {
   "cell_type": "code",
   "execution_count": 21,
   "metadata": {},
   "outputs": [
    {
     "data": {
      "text/plain": [
       "[0]"
      ]
     },
     "execution_count": 21,
     "metadata": {},
     "output_type": "execute_result"
    }
   ],
   "source": [
    "fib_list(1)"
   ]
  },
  {
   "cell_type": "code",
   "execution_count": 22,
   "metadata": {},
   "outputs": [
    {
     "data": {
      "text/plain": [
       "[0, 1]"
      ]
     },
     "execution_count": 22,
     "metadata": {},
     "output_type": "execute_result"
    }
   ],
   "source": [
    "fib_list(2)"
   ]
  },
  {
   "cell_type": "code",
   "execution_count": 23,
   "metadata": {},
   "outputs": [
    {
     "data": {
      "text/plain": [
       "[0, 1, 1]"
      ]
     },
     "execution_count": 23,
     "metadata": {},
     "output_type": "execute_result"
    }
   ],
   "source": [
    "fib_list(3)"
   ]
  },
  {
   "cell_type": "code",
   "execution_count": 24,
   "metadata": {},
   "outputs": [
    {
     "data": {
      "text/plain": [
       "[0, 1, 1, 2, 3, 5, 8, 13]"
      ]
     },
     "execution_count": 24,
     "metadata": {},
     "output_type": "execute_result"
    }
   ],
   "source": [
    "fib_list(8)"
   ]
  },
  {
   "cell_type": "markdown",
   "metadata": {},
   "source": [
    "5. Suppose that a person is running along the ground in the $x$-direction at a velocity of $v_x = 5\\,\\mathrm m/\\mathrm s$.  Create an array that contains the position of the runner (in meters) at $0.3$-second intervals for a total of 20 seconds."
   ]
  },
  {
   "cell_type": "code",
   "execution_count": 25,
   "metadata": {},
   "outputs": [
    {
     "name": "stdout",
     "output_type": "stream",
     "text": [
      "[0, 1.5, 3.0, 4.5, 6.0, 7.5, 9.0, 10.5, 12.0, 13.5, 15.0, 16.5, 18.0, 19.5, 21.0, 22.5, 24.0, 25.5, 27.0, 28.5, 30.0, 31.5, 33.0, 34.5, 36.0, 37.5, 39.0, 40.5, 42.0, 43.5, 45.0, 46.5, 48.0, 49.5, 51.0, 52.5, 54.0, 55.5, 57.0, 58.5, 60.0, 61.5, 63.0, 64.5, 66.0, 67.5, 69.0, 70.5, 72.0, 73.5, 75.0, 76.5, 78.0, 79.5, 81.0, 82.5, 84.0, 85.5, 87.0, 88.5, 90.0, 91.5, 93.0, 94.5, 96.0, 97.5, 99.0, 100.5]\n"
     ]
    }
   ],
   "source": [
    "# We will assume that the starting position at time t = 0 is 0 m.\n",
    "time = 0\n",
    "position = 0\n",
    "position_list = [0]\n",
    "while time < 20:\n",
    "    position += 1.5\n",
    "    position_list.append(position)\n",
    "    time += 0.3\n",
    "    \n",
    "print(position_list) # List of all positions in meters at 0.3 second intervals"
   ]
  },
  {
   "cell_type": "markdown",
   "metadata": {},
   "source": [
    "### Exercises  - Imports\n",
    "\n",
    "1. Create a coding cell at the very top of this notebook, type the following lines, and press \n",
    "\n",
    "        import numpy as np\n",
    "        import scipy as sp\n",
    "        \n",
    "   (see above)\n",
    "   \n",
    "    Now type out `np.` and then press <kbd>Tab</kbd> to use tab completion -- you should drop down menu containing a list of every available numpy function.  Now type the letters `si` as well, and the list should shorten to only those numpy functions beginning with the letters `si`.  Within this list, use the down arrow key to navigate to `sin` and press <kbd>Enter</kbd>.  Complete the line of code so that it reads\n",
    "   \n",
    "   \n",
    "        np.sin(1)\n",
    "        \n",
    "    then evaluate the cell, and you should see an appromation to the value of $\\sin(1)$ as the output."
   ]
  },
  {
   "cell_type": "code",
   "execution_count": 26,
   "metadata": {},
   "outputs": [
    {
     "data": {
      "text/plain": [
       "0.8414709848078965"
      ]
     },
     "execution_count": 26,
     "metadata": {},
     "output_type": "execute_result"
    }
   ],
   "source": [
    "np.sin(1)"
   ]
  },
  {
   "cell_type": "markdown",
   "metadata": {},
   "source": [
    "2. In addition to functions, numpy contains commonly used numbers such as $\\pi$.  Here's how you type out the numpy version of $\\pi$:\n",
    "        \n",
    "        np.pi\n",
    "        \n",
    "    In a coding cell below, use a for loop to create a list called `some_sines` containing the numbers $\\sin(n\\pi/10)$ for $n=1,2,\\dots, 20$ then print out the list to make sure it contains the values you would expect."
   ]
  },
  {
   "cell_type": "code",
   "execution_count": 27,
   "metadata": {},
   "outputs": [
    {
     "name": "stdout",
     "output_type": "stream",
     "text": [
      "[0.3090169943749474, 0.5877852522924731, 0.8090169943749473, 0.9510565162951535, 1.0, 0.9510565162951536, 0.8090169943749475, 0.5877852522924732, 0.3090169943749475, 1.2246467991473532e-16, -0.3090169943749469, -0.587785252292473, -0.8090169943749473, -0.9510565162951535, -1.0, -0.9510565162951536, -0.8090169943749476, -0.5877852522924732, -0.3090169943749476, -2.4492935982947064e-16]\n"
     ]
    }
   ],
   "source": [
    "some_sines = []\n",
    "for n in range (1, 21):\n",
    "    some_sines.append(np.sin(n * np.pi / 10))\n",
    "print(some_sines)"
   ]
  },
  {
   "cell_type": "markdown",
   "metadata": {},
   "source": [
    "3. Repeat the last exercise, but use a list comprehension to construct `some_sines`."
   ]
  },
  {
   "cell_type": "code",
   "execution_count": 28,
   "metadata": {},
   "outputs": [
    {
     "name": "stdout",
     "output_type": "stream",
     "text": [
      "[0.3090169943749474, 0.5877852522924731, 0.8090169943749473, 0.9510565162951535, 1.0, 0.9510565162951536, 0.8090169943749475, 0.5877852522924732, 0.3090169943749475, 1.2246467991473532e-16, -0.3090169943749469, -0.587785252292473, -0.8090169943749473, -0.9510565162951535, -1.0, -0.9510565162951536, -0.8090169943749476, -0.5877852522924732, -0.3090169943749476, -2.4492935982947064e-16]\n"
     ]
    }
   ],
   "source": [
    "some_sines = [np.sin(n * np.pi / 10) for n in range (1, 21)]\n",
    "print(some_sines)"
   ]
  },
  {
   "cell_type": "markdown",
   "metadata": {},
   "source": [
    "### Exercises - NumPy arrays\n",
    "\n",
    "1. Predict what you think the output of the following code would be, then copy and paste it into a new coding cell below, and check to see if your predictions came true:\n",
    "\n",
    "        integer_list = [n for n in range(1, 11)]\n",
    "        integer_array = np.array(integer_list)\n",
    "        another_integer_array = np.arange(1,11)\n",
    "\n",
    "        print(integer_list)\n",
    "        print(integer_array)\n",
    "        print(another_integer_array)\n",
    "\n",
    "        print(type(integer_list))\n",
    "        print(type(integer_array))\n",
    "        print(type(another_integer_array)) <br>\n",
    "        \n",
    "        \n",
    "        \n",
    " The output will be: <br>\n",
    " [1, 2, 3, 4, 5, 6, 7, 8, 9, 10] <br>\n",
    " [1, 2, 3, 4, 5, 6, 7, 8, 9, 10] <br>\n",
    " [1, 2, 3, 4, 5, 6, 7, 8, 9, 10] <br>\n",
    " list <br>\n",
    " array <br>\n",
    " array <br>"
   ]
  },
  {
   "cell_type": "code",
   "execution_count": 29,
   "metadata": {},
   "outputs": [
    {
     "name": "stdout",
     "output_type": "stream",
     "text": [
      "[1, 2, 3, 4, 5, 6, 7, 8, 9, 10]\n",
      "[ 1  2  3  4  5  6  7  8  9 10]\n",
      "[ 1  2  3  4  5  6  7  8  9 10]\n",
      "<class 'list'>\n",
      "<class 'numpy.ndarray'>\n",
      "<class 'numpy.ndarray'>\n"
     ]
    }
   ],
   "source": [
    "        integer_list = [n for n in range(1, 11)]\n",
    "        integer_array = np.array(integer_list)\n",
    "        another_integer_array = np.arange(1,11)\n",
    "\n",
    "        print(integer_list)\n",
    "        print(integer_array)\n",
    "        print(another_integer_array)\n",
    "\n",
    "        print(type(integer_list))\n",
    "        print(type(integer_array))\n",
    "        print(type(another_integer_array))"
   ]
  },
  {
   "cell_type": "markdown",
   "metadata": {},
   "source": [
    "I got this wrong but I see what I did here. When printed out, lists are separated by commas, while arrays are not separated by commas. Both have brackets. Also the type of an array is:\n",
    "\n",
    "numpy.ndarray"
   ]
  },
  {
   "cell_type": "markdown",
   "metadata": {},
   "source": [
    "2. Once you have done the last exercise, type out the following code and run it in a new cell.  Make sure the output aligns with what you expect it would be:\n",
    "\n",
    "        np.sin(integer_array)\n",
    "        np.cos(integer_array)\n",
    "        np.exp(integer_array)"
   ]
  },
  {
   "cell_type": "code",
   "execution_count": 30,
   "metadata": {},
   "outputs": [
    {
     "name": "stdout",
     "output_type": "stream",
     "text": [
      "[ 0.84147098  0.90929743  0.14112001 -0.7568025  -0.95892427 -0.2794155\n",
      "  0.6569866   0.98935825  0.41211849 -0.54402111]\n",
      "[ 0.54030231 -0.41614684 -0.9899925  -0.65364362  0.28366219  0.96017029\n",
      "  0.75390225 -0.14550003 -0.91113026 -0.83907153]\n",
      "[2.71828183e+00 7.38905610e+00 2.00855369e+01 5.45981500e+01\n",
      " 1.48413159e+02 4.03428793e+02 1.09663316e+03 2.98095799e+03\n",
      " 8.10308393e+03 2.20264658e+04]\n"
     ]
    }
   ],
   "source": [
    "print(np.sin(integer_array))\n",
    "print(np.cos(integer_array))\n",
    "print(np.exp(integer_array))"
   ]
  },
  {
   "cell_type": "markdown",
   "metadata": {},
   "source": [
    "For the above lines of code, as expected, there should not be commas between each element of the array"
   ]
  },
  {
   "cell_type": "markdown",
   "metadata": {},
   "source": [
    "3. In each of the code blocks below, an array called `test_array` is created and manipulated.  Predict what `test_array` will be at the end of the code block, then run each code block in its own coding cell to test your prediction.  If you prediction does not agree with the result, determine where you made your error.\n",
    "\n",
    "    **Block 1**\n",
    "    \n",
    "        test_array = np.ones(11)\n",
    "        array_1 = 3 * test_array\n",
    "        array_2 = 5 * test_array\n",
    "        test_array = array_1 + array_2\n",
    "        test_array = test_array / 4"
   ]
  },
  {
   "cell_type": "markdown",
   "metadata": {},
   "source": [
    "test_array will be: <br>\n",
    "[2 2 2 2 2 2 2 2 2 2 2]"
   ]
  },
  {
   "cell_type": "code",
   "execution_count": 31,
   "metadata": {},
   "outputs": [
    {
     "name": "stdout",
     "output_type": "stream",
     "text": [
      "[2. 2. 2. 2. 2. 2. 2. 2. 2. 2. 2.]\n"
     ]
    }
   ],
   "source": [
    "test_array = np.ones(11)\n",
    "array_1 = 3 * test_array\n",
    "array_2 = 5 * test_array\n",
    "test_array = array_1 + array_2\n",
    "test_array = test_array / 4\n",
    "print(test_array)"
   ]
  },
  {
   "cell_type": "markdown",
   "metadata": {},
   "source": [
    "I was close here in my prediction, but it turns out that each 2 is a float. I looked at the function np.ones() and learned that each 1 is by default a float."
   ]
  },
  {
   "cell_type": "markdown",
   "metadata": {},
   "source": [
    " **Block 2**\n",
    "        \n",
    "        hello = np.zeros(9)\n",
    "        goodbye = np.arange(1, 19, 2)\n",
    "        hello = 3 * (hello + 1)\n",
    "        test_array = (hello + goodbye) ** 2\n",
    "        \n",
    "        \n",
    "      test_array will be:\n",
    "      [16. 36. 64. 100. 144. 196. 256. 324. 400.]"
   ]
  },
  {
   "cell_type": "code",
   "execution_count": 32,
   "metadata": {},
   "outputs": [
    {
     "name": "stdout",
     "output_type": "stream",
     "text": [
      "[ 16.  36.  64. 100. 144. 196. 256. 324. 400.]\n"
     ]
    }
   ],
   "source": [
    "hello = np.zeros(9)\n",
    "goodbye = np.arange(1, 19, 2)\n",
    "hello = 3 * (hello + 1)\n",
    "test_array = (hello + goodbye) ** 2\n",
    "print(test_array)"
   ]
  },
  {
   "cell_type": "markdown",
   "metadata": {},
   "source": [
    "I was correct"
   ]
  },
  {
   "cell_type": "markdown",
   "metadata": {},
   "source": [
    " **Block 3**\n",
    "    \n",
    "        luke = np.ones(7)\n",
    "        leah = 2 * luke\n",
    "        han = 3 * luke\n",
    "        darth = 4 * luke\n",
    "        jabba = 5 * luke\n",
    "        (luke + leah) * han * (darth - jabba)\n",
    "        \n",
    "        test_array will be:\n",
    "      [-9. -9. -9. -9. -9. -9. -9.]"
   ]
  },
  {
   "cell_type": "code",
   "execution_count": 33,
   "metadata": {},
   "outputs": [
    {
     "name": "stdout",
     "output_type": "stream",
     "text": [
      "[-9. -9. -9. -9. -9. -9. -9.]\n"
     ]
    }
   ],
   "source": [
    "luke = np.ones(7)\n",
    "leah = 2 * luke\n",
    "han = 3 * luke\n",
    "darth = 4 * luke\n",
    "jabba = 5 * luke\n",
    "print((luke + leah) * han * (darth - jabba))"
   ]
  },
  {
   "cell_type": "markdown",
   "metadata": {},
   "source": [
    "I was correct"
   ]
  },
  {
   "cell_type": "markdown",
   "metadata": {},
   "source": [
    "   **Block 4**\n",
    "    \n",
    "        charm = np.pi * np.ones(20) / 2\n",
    "        bottom = np.sin(charm)\n",
    "        up = np.cos(charm)\n",
    "        test_array = bottom * up\n",
    "        \n",
    "test array will be: <br>\n",
    " [0. 0. 0. 0. 0. 0. 0. 0. 0. 0. 0. 0. 0. 0. 0. 0. 0. 0. 0. 0.]"
   ]
  },
  {
   "cell_type": "code",
   "execution_count": 34,
   "metadata": {},
   "outputs": [
    {
     "name": "stdout",
     "output_type": "stream",
     "text": [
      "[6.123234e-17 6.123234e-17 6.123234e-17 6.123234e-17 6.123234e-17\n",
      " 6.123234e-17 6.123234e-17 6.123234e-17 6.123234e-17 6.123234e-17\n",
      " 6.123234e-17 6.123234e-17 6.123234e-17 6.123234e-17 6.123234e-17\n",
      " 6.123234e-17 6.123234e-17 6.123234e-17 6.123234e-17 6.123234e-17]\n"
     ]
    }
   ],
   "source": [
    "        charm = np.pi * np.ones(20) / 2\n",
    "        bottom = np.sin(charm)\n",
    "        up = np.cos(charm)\n",
    "        test_array = bottom * up\n",
    "        print(test_array)"
   ]
  },
  {
   "cell_type": "markdown",
   "metadata": {},
   "source": [
    "Effectively, I was correct here. 6.123234e-17 is essentially zero, and this may be a reflection of the precision of python or the numpy package."
   ]
  },
  {
   "cell_type": "markdown",
   "metadata": {},
   "source": [
    " **Block 5**\n",
    "    \n",
    "        test_array = np.sin(np.pi * np.array([n ** 2 for n in range(5)]) / 4)\n",
    "        heisenberg = test_array ** 2\n",
    "        schrodinger = test_array ** 3\n",
    "        pauli = test_array\n",
    "        test_array = (heisenberg + schrodinger + pauli) ** 2\n",
    "        \n",
    "              test_array will be:\n",
    "      [0. 2.43566017178 0. 2.43566017178 0.] \n",
    "      \n",
    "      *Note* I used a calculator to help me with my predictions"
   ]
  },
  {
   "cell_type": "code",
   "execution_count": 35,
   "metadata": {},
   "outputs": [
    {
     "name": "stdout",
     "output_type": "stream",
     "text": [
      "[0.00000000e+00 2.43566017e+00 1.49975978e-32 2.43566017e+00\n",
      " 2.39961565e-31]\n"
     ]
    }
   ],
   "source": [
    "test_array = np.sin(np.pi * np.array([n ** 2 for n in range(5)]) / 4)\n",
    "heisenberg = test_array ** 2\n",
    "schrodinger = test_array ** 3\n",
    "pauli = test_array\n",
    "test_array = (heisenberg + schrodinger + pauli) ** 2\n",
    "print(test_array)"
   ]
  },
  {
   "cell_type": "markdown",
   "metadata": {},
   "source": [
    "Effectively, I was correct here. The strange e's and tiny numbers to the minus 31 power are a reflection of python and numpy's precision."
   ]
  },
  {
   "cell_type": "markdown",
   "metadata": {},
   "source": [
    "### Exercises - array creation and manipulation\n",
    "\n",
    "1. It was mentioned above that importing numpy with the abbreviation `np` instead of using a method of importing that allows one to avoid the `numpy` or `np` prefix is good practice because then when one calls a NumPy function, it's clear that the NumPy implementation of that function is being used instead of some other implementation.  To see an explicit example of this, consider the sine function.  Aside from NumPy, there is another commonly-used implementation of sine in the `math` package which can be imported in the standard way\n",
    "\n",
    "        import math\n",
    "        \n",
    "    Then, as with any function contained within a package, we can use the sine function from the math package with the \"dot\" syntax `math.sin`.\n",
    "    - Create a NumPy array with 10 entries whose elements are $n\\pi/2$ for $n = 0,1, \\dots, 9$.\n",
    "    - Apply the NumPy sine function to this array, and make sure the result is what you'd expect.\n",
    "    - Apply the math sine function to this array.  What happened and why?\n",
    "    - You should have found that the math sine function did not operate in the same way as the NumPy sine function."
   ]
  },
  {
   "cell_type": "code",
   "execution_count": 36,
   "metadata": {},
   "outputs": [
    {
     "name": "stdout",
     "output_type": "stream",
     "text": [
      "[ 0.0000000e+00  1.0000000e+00  1.2246468e-16 -1.0000000e+00\n",
      " -2.4492936e-16  1.0000000e+00  3.6739404e-16 -1.0000000e+00\n",
      " -4.8985872e-16  1.0000000e+00]\n"
     ]
    }
   ],
   "source": [
    "numPy_array = np.array((np.arange(10) * np.pi) / 2)\n",
    "print(np.sin(numPy_array))"
   ]
  },
  {
   "cell_type": "markdown",
   "metadata": {},
   "source": [
    "The above result is what we should expect in terms of values, though it does not appear that way (again, due to high precision)."
   ]
  },
  {
   "cell_type": "code",
   "execution_count": 37,
   "metadata": {},
   "outputs": [
    {
     "ename": "TypeError",
     "evalue": "only size-1 arrays can be converted to Python scalars",
     "output_type": "error",
     "traceback": [
      "\u001b[0;31m---------------------------------------------------------------------------\u001b[0m",
      "\u001b[0;31mTypeError\u001b[0m                                 Traceback (most recent call last)",
      "\u001b[0;32m<ipython-input-37-30c959715012>\u001b[0m in \u001b[0;36m<module>\u001b[0;34m\u001b[0m\n\u001b[0;32m----> 1\u001b[0;31m \u001b[0mprint\u001b[0m\u001b[0;34m(\u001b[0m\u001b[0mmath\u001b[0m\u001b[0;34m.\u001b[0m\u001b[0msin\u001b[0m\u001b[0;34m(\u001b[0m\u001b[0mnumPy_array\u001b[0m\u001b[0;34m)\u001b[0m\u001b[0;34m)\u001b[0m\u001b[0;34m\u001b[0m\u001b[0;34m\u001b[0m\u001b[0m\n\u001b[0m",
      "\u001b[0;31mTypeError\u001b[0m: only size-1 arrays can be converted to Python scalars"
     ]
    }
   ],
   "source": [
    "print(math.sin(numPy_array))"
   ]
  },
  {
   "cell_type": "markdown",
   "metadata": {},
   "source": [
    "When I apply the math.sin() function to the array, I get an error saying that only size-1 arrays can be converted to python scalars. This means that if we have array [5], we could apply math.sin() to it - but if the array were [5 3], math.sin() would not work. (See below)"
   ]
  },
  {
   "cell_type": "code",
   "execution_count": 38,
   "metadata": {},
   "outputs": [
    {
     "data": {
      "text/plain": [
       "-0.9589242746631385"
      ]
     },
     "execution_count": 38,
     "metadata": {},
     "output_type": "execute_result"
    }
   ],
   "source": [
    "math.sin(np.array(5))"
   ]
  },
  {
   "cell_type": "code",
   "execution_count": 39,
   "metadata": {},
   "outputs": [
    {
     "ename": "TypeError",
     "evalue": "only size-1 arrays can be converted to Python scalars",
     "output_type": "error",
     "traceback": [
      "\u001b[0;31m---------------------------------------------------------------------------\u001b[0m",
      "\u001b[0;31mTypeError\u001b[0m                                 Traceback (most recent call last)",
      "\u001b[0;32m<ipython-input-39-22682c6df8ac>\u001b[0m in \u001b[0;36m<module>\u001b[0;34m\u001b[0m\n\u001b[1;32m      1\u001b[0m \u001b[0mlist\u001b[0m \u001b[0;34m=\u001b[0m \u001b[0;34m[\u001b[0m\u001b[0;36m5\u001b[0m\u001b[0;34m,\u001b[0m \u001b[0;36m3\u001b[0m\u001b[0;34m]\u001b[0m\u001b[0;34m\u001b[0m\u001b[0;34m\u001b[0m\u001b[0m\n\u001b[1;32m      2\u001b[0m \u001b[0marray\u001b[0m \u001b[0;34m=\u001b[0m \u001b[0mnp\u001b[0m\u001b[0;34m.\u001b[0m\u001b[0marray\u001b[0m\u001b[0;34m(\u001b[0m\u001b[0mlist\u001b[0m\u001b[0;34m)\u001b[0m\u001b[0;34m\u001b[0m\u001b[0;34m\u001b[0m\u001b[0m\n\u001b[0;32m----> 3\u001b[0;31m \u001b[0mmath\u001b[0m\u001b[0;34m.\u001b[0m\u001b[0msin\u001b[0m\u001b[0;34m(\u001b[0m\u001b[0mnp\u001b[0m\u001b[0;34m.\u001b[0m\u001b[0marray\u001b[0m\u001b[0;34m(\u001b[0m\u001b[0marray\u001b[0m\u001b[0;34m)\u001b[0m\u001b[0;34m)\u001b[0m\u001b[0;34m\u001b[0m\u001b[0;34m\u001b[0m\u001b[0m\n\u001b[0m",
      "\u001b[0;31mTypeError\u001b[0m: only size-1 arrays can be converted to Python scalars"
     ]
    }
   ],
   "source": [
    "list = [5, 3]\n",
    "array = np.array(list)\n",
    "math.sin(np.array(array))"
   ]
  },
  {
   "cell_type": "markdown",
   "metadata": {},
   "source": [
    "For each of these exercises, create the specified list/array in as many of the following three ways as you can:\n",
    "\n",
    "- Use a loop to create a list with the desired elements and then convert it to an array.\n",
    "- Use a list comprehention to create a list with the desired elements and then convert it to an array.\n",
    "- Use only numpy commands to direction create an array with the desired elements.\n",
    "\n",
    "\n",
    "\n",
    "1. Create an array of shape `(1, 50)` of zeros (a 50-dimensional zero vector) and call it `zero`.  Use NumPy's `shape` function to check the shape of the array."
   ]
  },
  {
   "cell_type": "code",
   "execution_count": 40,
   "metadata": {},
   "outputs": [
    {
     "name": "stdout",
     "output_type": "stream",
     "text": [
      "(1, 50)\n",
      "(1, 50)\n",
      "(1, 50)\n"
     ]
    }
   ],
   "source": [
    "list_zeros_loop = [[]]   # loop\n",
    "for i in range(50):\n",
    "    list_zeros_loop[0].append(0)\n",
    "array_zeros_loop = np.array(list_zeros_loop)\n",
    "\n",
    "list_zeros_comprehension = [[0 for i in range(50)]] # list comprehension\n",
    "array_zeros_comprehension = np.array(list_zeros_comprehension)\n",
    "\n",
    "zeros = [np.zeros(50)] # numpy\n",
    "\n",
    "print(np.shape(array_zeros_loop))\n",
    "print(np.shape(array_zeros_comprehension))\n",
    "print(np.shape(zeros))"
   ]
  },
  {
   "cell_type": "markdown",
   "metadata": {},
   "source": [
    "2. Create an array of shape `(1, 25)` of all zeros except make the 7th element equal to 3. Use NumPy's `shape` function to check the shape of the array."
   ]
  },
  {
   "cell_type": "code",
   "execution_count": 41,
   "metadata": {},
   "outputs": [
    {
     "name": "stdout",
     "output_type": "stream",
     "text": [
      "[[0 0 0 0 0 0 3 0 0 0 0 0 0 0 0 0 0 0 0 0 0 0 0 0 0]]\n",
      "(1, 25)\n"
     ]
    }
   ],
   "source": [
    "list_zeros_loop = [[]]   # loop\n",
    "for i in range(25):\n",
    "    list_zeros_loop[0].append(0)\n",
    "array_zeros_loop = np.array(list_zeros_loop)\n",
    "array_zeros_loop[0][6] = 3\n",
    "print(array_zeros_loop)\n",
    "print(np.shape(array_zeros_loop))"
   ]
  },
  {
   "cell_type": "code",
   "execution_count": 42,
   "metadata": {},
   "outputs": [
    {
     "name": "stdout",
     "output_type": "stream",
     "text": [
      "[[0 0 0 0 0 0 3 0 0 0 0 0 0 0 0 0 0 0 0 0 0 0 0 0 0]]\n",
      "(1, 25)\n"
     ]
    }
   ],
   "source": [
    "list_zeros_comprehension = [[0 for i in range(25)]] # list comprehension\n",
    "array_zeros_comprehension = np.array(list_zeros_comprehension)\n",
    "array_zeros_comprehension[0][6] = 3\n",
    "print(array_zeros_comprehension)\n",
    "print(np.shape(array_zeros_comprehension))"
   ]
  },
  {
   "cell_type": "code",
   "execution_count": 43,
   "metadata": {},
   "outputs": [
    {
     "name": "stdout",
     "output_type": "stream",
     "text": [
      "[array([0., 0., 0., 0., 0., 0., 3., 0., 0., 0., 0., 0., 0., 0., 0., 0., 0.,\n",
      "       0., 0., 0., 0., 0., 0., 0., 0.])]\n",
      "(1, 25)\n"
     ]
    }
   ],
   "source": [
    "zeros = [np.zeros(25)] # numpy\n",
    "zeros[0][6] = 3\n",
    "print(zeros)\n",
    "print(np.shape(zeros))"
   ]
  },
  {
   "cell_type": "markdown",
   "metadata": {},
   "source": [
    "3. Suppose that a person is running along the ground in the $x$-direction at a velocity of $v_x = 5\\,\\mathrm m/\\mathrm s$.  Create an array that contains the position of the runner at $0.3$-second intervals for a total of 20 seconds."
   ]
  },
  {
   "cell_type": "code",
   "execution_count": 44,
   "metadata": {},
   "outputs": [
    {
     "name": "stdout",
     "output_type": "stream",
     "text": [
      "[  0.    1.5   3.    4.5   6.    7.5   9.   10.5  12.   13.5  15.   16.5\n",
      "  18.   19.5  21.   22.5  24.   25.5  27.   28.5  30.   31.5  33.   34.5\n",
      "  36.   37.5  39.   40.5  42.   43.5  45.   46.5  48.   49.5  51.   52.5\n",
      "  54.   55.5  57.   58.5  60.   61.5  63.   64.5  66.   67.5  69.   70.5\n",
      "  72.   73.5  75.   76.5  78.   79.5  81.   82.5  84.   85.5  87.   88.5\n",
      "  90.   91.5  93.   94.5  96.   97.5  99.  100.5]\n"
     ]
    }
   ],
   "source": [
    "# Using a while loop\n",
    "# We will assume that the starting position at time t = 0 is 0 m.\n",
    "time = 0\n",
    "position = 0\n",
    "position_list = [0]\n",
    "while time < 20:   # using a loop\n",
    "    position += 1.5\n",
    "    position_list.append(position)\n",
    "    time += 0.3\n",
    "    \n",
    "position_array = np.array(position_list)\n",
    "print(position_array)"
   ]
  },
  {
   "cell_type": "code",
   "execution_count": 45,
   "metadata": {},
   "outputs": [
    {
     "name": "stdout",
     "output_type": "stream",
     "text": [
      "[  0.    1.5   3.    4.5   6.    7.5   9.   10.5  12.   13.5  15.   16.5\n",
      "  18.   19.5  21.   22.5  24.   25.5  27.   28.5  30.   31.5  33.   34.5\n",
      "  36.   37.5  39.   40.5  42.   43.5  45.   46.5  48.   49.5  51.   52.5\n",
      "  54.   55.5  57.   58.5  60.   61.5  63.   64.5  66.   67.5  69.   70.5\n",
      "  72.   73.5  75.   76.5  78.   79.5  81.   82.5  84.   85.5  87.   88.5\n",
      "  90.   91.5  93.   94.5  96.   97.5  99.  100.5]\n"
     ]
    }
   ],
   "source": [
    "# Using a for loop\n",
    "# We will assume that the starting position at time t = 0 is 0 m.\n",
    "position_list = []\n",
    "for n in range(68):\n",
    "    position_list.append(1.5 * n)\n",
    "    \n",
    "position_array = np.array(position_list)\n",
    "print(position_array)"
   ]
  },
  {
   "cell_type": "code",
   "execution_count": 46,
   "metadata": {},
   "outputs": [
    {
     "name": "stdout",
     "output_type": "stream",
     "text": [
      "[  0.    1.5   3.    4.5   6.    7.5   9.   10.5  12.   13.5  15.   16.5\n",
      "  18.   19.5  21.   22.5  24.   25.5  27.   28.5  30.   31.5  33.   34.5\n",
      "  36.   37.5  39.   40.5  42.   43.5  45.   46.5  48.   49.5  51.   52.5\n",
      "  54.   55.5  57.   58.5  60.   61.5  63.   64.5  66.   67.5  69.   70.5\n",
      "  72.   73.5  75.   76.5  78.   79.5  81.   82.5  84.   85.5  87.   88.5\n",
      "  90.   91.5  93.   94.5  96.   97.5  99.  100.5]\n"
     ]
    }
   ],
   "source": [
    "# Using a list comprehension\n",
    "# We will assume that the starting position at time t = 0 is 0 m.\n",
    "position_list_comprehension = [n * 1.5 for n in range(68)]\n",
    "    \n",
    "position_array_comprehension = np.array(position_list_comprehension)\n",
    "print(position_array_comprehension)"
   ]
  },
  {
   "cell_type": "code",
   "execution_count": 47,
   "metadata": {},
   "outputs": [
    {
     "name": "stdout",
     "output_type": "stream",
     "text": [
      "[  0.    1.5   3.    4.5   6.    7.5   9.   10.5  12.   13.5  15.   16.5\n",
      "  18.   19.5  21.   22.5  24.   25.5  27.   28.5  30.   31.5  33.   34.5\n",
      "  36.   37.5  39.   40.5  42.   43.5  45.   46.5  48.   49.5  51.   52.5\n",
      "  54.   55.5  57.   58.5  60.   61.5  63.   64.5  66.   67.5  69.   70.5\n",
      "  72.   73.5  75.   76.5  78.   79.5  81.   82.5  84.   85.5  87.   88.5\n",
      "  90.   91.5  93.   94.5  96.   97.5  99.  100.5]\n"
     ]
    }
   ],
   "source": [
    "# Using numpy commands \n",
    "# We will assume that the starting position at time t = 0 is 0 m.\n",
    "position_array_numpy = np.arange(0, 101, 1.5)\n",
    "print(position_array_numpy)"
   ]
  },
  {
   "cell_type": "markdown",
   "metadata": {},
   "source": [
    "### Measuring vectorized (or any other) short program performance with the `%%timeit` cell magic"
   ]
  },
  {
   "cell_type": "code",
   "execution_count": 48,
   "metadata": {},
   "outputs": [
    {
     "name": "stdout",
     "output_type": "stream",
     "text": [
      "5.24 s ± 77.6 ms per loop (mean ± std. dev. of 7 runs, 1 loop each)\n"
     ]
    }
   ],
   "source": [
    "%%timeit\n",
    "\n",
    "list_of_squares = []       \n",
    "for i in range(10000000):\n",
    "    list_of_squares.append(i ** 2)"
   ]
  },
  {
   "cell_type": "code",
   "execution_count": 49,
   "metadata": {},
   "outputs": [
    {
     "name": "stdout",
     "output_type": "stream",
     "text": [
      "4.65 s ± 113 ms per loop (mean ± std. dev. of 7 runs, 1 loop each)\n"
     ]
    }
   ],
   "source": [
    "%%timeit\n",
    "\n",
    "another_list_of_squares = [n ** 2 for n in range(10000000)]"
   ]
  },
  {
   "cell_type": "code",
   "execution_count": 50,
   "metadata": {},
   "outputs": [
    {
     "name": "stdout",
     "output_type": "stream",
     "text": [
      "63 ms ± 2.64 ms per loop (mean ± std. dev. of 7 runs, 10 loops each)\n"
     ]
    }
   ],
   "source": [
    "%%timeit\n",
    "\n",
    "numpy_list_of_squares = np.arange(10000000) ** 2"
   ]
  },
  {
   "cell_type": "markdown",
   "metadata": {},
   "source": [
    "### Exercises - 2D plot creation\n",
    "\n",
    "1. Plot the sine and cosine functions on the same plot over the interval $[-3\\pi, 5\\pi]$.  Use a solid red line for the sine function, and a dashed green line for the cosine function.  Label the $x$-axis with the word \"angle\" and label the $y$-axis with the phrase \"function value.\""
   ]
  },
  {
   "cell_type": "code",
   "execution_count": 51,
   "metadata": {},
   "outputs": [
    {
     "data": {
      "text/plain": [
       "Text(0, 0.5, 'function value')"
      ]
     },
     "execution_count": 51,
     "metadata": {},
     "output_type": "execute_result"
    },
    {
     "data": {
      "image/png": "[encoded data removed]",
      "text/plain": [
       "<Figure size 432x288 with 1 Axes>"
      ]
     },
     "metadata": {
      "needs_background": "light"
     },
     "output_type": "display_data"
    }
   ],
   "source": [
    "x_values = np.linspace(-3 * np.pi, 5 * np.pi, 200)\n",
    "sin_values = np.sin(x_values)\n",
    "cos_values = np.cos(x_values)\n",
    "\n",
    "plt.plot(x_values, sin_values, color = 'red')\n",
    "plt.plot(x_values, cos_values, color = 'green', linestyle = '--')\n",
    "\n",
    "plt.xlabel('angle')\n",
    "plt.ylabel('function value')"
   ]
  },
  {
   "cell_type": "markdown",
   "metadata": {},
   "source": [
    "2. Generate a plot containing one curve for each $\\sin(n\\pi x)$ as $n$ ranges over the values $1, 2, \\dots 9$.  use solid lines for all curves, but have the highest \"frequency\" curve ($n = 9$) be plotted in blue, the lowest frequency curve ($n=1$) plotted in red, and the curves in between plotted in some gradient going from blue to red so that the middle frequency curve ($n=5$) appears in purple."
   ]
  },
  {
   "cell_type": "markdown",
   "metadata": {},
   "source": [
    "For help with the colors and learning RGB colors, I referred to:\n",
    "[changing the color and linestyle](https://matplotlib.org/2.1.1/api/_as_gen/matplotlib.pyplot.plot.html)"
   ]
  },
  {
   "cell_type": "code",
   "execution_count": 52,
   "metadata": {},
   "outputs": [
    {
     "data": {
      "image/png": "[encoded data removed]",
      "text/plain": [
       "<Figure size 432x288 with 1 Axes>"
      ]
     },
     "metadata": {
      "needs_background": "light"
     },
     "output_type": "display_data"
    }
   ],
   "source": [
    "# For clarity, I first do this from 0 to pi.\n",
    "# I understand that the color function is not the best coding practice, but it gets the job done\n",
    "x_values = np.linspace(0, np.pi, 200)\n",
    "\n",
    "def color(n):\n",
    "    if n == 1:\n",
    "        return (1, 0, 0)\n",
    "    if n == 2:\n",
    "        return (.875, 0, .125)\n",
    "    if n == 3:\n",
    "        return (.75, 0, .25)\n",
    "    if n == 4: \n",
    "        return (.625, 0, .375)\n",
    "    if n == 5:\n",
    "        return (.5, 0, .5)\n",
    "    if n == 6:\n",
    "        return (.375, 0, .625)\n",
    "    if n == 7:\n",
    "        return (.25, 0, .75)\n",
    "    if n == 8:\n",
    "        return (.125, 0, .875)\n",
    "    if n == 9:\n",
    "        return (0, 0, 1)\n",
    "\n",
    "\n",
    "for n in range(1, 10):\n",
    "    y_values = np.sin(n * x_values)\n",
    "    plt.plot(x_values, y_values, color = color(n))"
   ]
  },
  {
   "cell_type": "code",
   "execution_count": 53,
   "metadata": {},
   "outputs": [
    {
     "data": {
      "image/png": "[encoded data removed]",
      "text/plain": [
       "<Figure size 432x288 with 1 Axes>"
      ]
     },
     "metadata": {
      "needs_background": "light"
     },
     "output_type": "display_data"
    }
   ],
   "source": [
    "# I now solve the problem for -2pi to 2pi\n",
    "x_values = np.linspace(-2 * np.pi, 2 * np.pi, 200)\n",
    "\n",
    "def color(n):\n",
    "    if n == 1:\n",
    "        return (1, 0, 0)\n",
    "    if n == 2:\n",
    "        return (.875, 0, .125)\n",
    "    if n == 3:\n",
    "        return (.75, 0, .25)\n",
    "    if n == 4: \n",
    "        return (.625, 0, .375)\n",
    "    if n == 5:\n",
    "        return (.5, 0, .5)\n",
    "    if n == 6:\n",
    "        return (.375, 0, .625)\n",
    "    if n == 7:\n",
    "        return (.25, 0, .75)\n",
    "    if n == 8:\n",
    "        return (.125, 0, .875)\n",
    "    if n == 9:\n",
    "        return (0, 0, 1)\n",
    "\n",
    "\n",
    "for n in range(1, 10):\n",
    "    y_values = np.sin(n * x_values)\n",
    "    plt.plot(x_values, y_values, color = color(n))"
   ]
  }
 ],
 "metadata": {
  "kernelspec": {
   "display_name": "Python 3",
   "language": "python",
   "name": "python3"
  },
  "language_info": {
   "codemirror_mode": {
    "name": "ipython",
    "version": 3
   },
   "file_extension": ".py",
   "mimetype": "text/x-python",
   "name": "python",
   "nbconvert_exporter": "python",
   "pygments_lexer": "ipython3",
   "version": "3.8.5"
  }
 },
 "nbformat": 4,
 "nbformat_minor": 4
}
